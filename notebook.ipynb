{
 "cells": [
  {
   "cell_type": "code",
   "execution_count": 5,
   "id": "b50c36d6-4f01-4659-a9e3-6577eb0754ed",
   "metadata": {},
   "outputs": [
    {
     "name": "stdout",
     "output_type": "stream",
     "text": [
      "running cell\n"
     ]
    }
   ],
   "source": [
    "print('running cell')"
   ]
  },
  {
   "cell_type": "code",
   "execution_count": 4,
   "id": "849f2b48-ad62-4f1c-818d-9f141b52e2cc",
   "metadata": {},
   "outputs": [
    {
     "name": "stdout",
     "output_type": "stream",
     "text": [
      "running another cell\n",
      "46\n"
     ]
    }
   ],
   "source": [
    "print('running another cell')\n",
    "import numpy as np\n",
    "x, y = np.array([1,2,3]), np.array([4,6,10])\n",
    "print(np.dot(x,y))"
   ]
  },
  {
   "cell_type": "markdown",
   "id": "ad438082-08c5-4e8d-96db-4120eeca8c5b",
   "metadata": {},
   "source": [
    "Markdown cell\n"
   ]
  },
  {
   "cell_type": "markdown",
   "id": "ea907fea-5bba-4abf-9451-7d72a1aced9e",
   "metadata": {},
   "source": [
    "Another #h1 Markdown cell"
   ]
  },
  {
   "cell_type": "code",
   "execution_count": null,
   "id": "36cf5ef4-6db2-4d9f-8448-ebdae2e115c1",
   "metadata": {},
   "outputs": [],
   "source": []
  },
  {
   "cell_type": "code",
   "execution_count": null,
   "id": "29677b3e-ffbc-4a8a-85a8-59f1f2e766f8",
   "metadata": {},
   "outputs": [],
   "source": []
  }
 ],
 "metadata": {
  "kernelspec": {
   "display_name": "Python 3 (ipykernel)",
   "language": "python",
   "name": "python3"
  },
  "language_info": {
   "codemirror_mode": {
    "name": "ipython",
    "version": 3
   },
   "file_extension": ".py",
   "mimetype": "text/x-python",
   "name": "python",
   "nbconvert_exporter": "python",
   "pygments_lexer": "ipython3",
   "version": "3.10.4"
  }
 },
 "nbformat": 4,
 "nbformat_minor": 5
}
